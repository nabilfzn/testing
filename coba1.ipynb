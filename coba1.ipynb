{
 "cells": [
  {
   "cell_type": "markdown",
   "id": "26e11ca8-5c5f-4a64-bde7-999e42d66da7",
   "metadata": {},
   "source": [
    "# Import Dependencies"
   ]
  },
  {
   "cell_type": "code",
   "execution_count": 359,
   "id": "b2e025a1-2294-4410-90eb-470ec6d3dd71",
   "metadata": {},
   "outputs": [],
   "source": [
    "import numpy as np\n",
    "import pandas as pd\n",
    "import matplotlib.pyplot as plt\n",
    "import seaborn as sns"
   ]
  },
  {
   "cell_type": "code",
   "execution_count": 360,
   "id": "a0719401-f42b-4e52-a0a1-bc23eaec84c2",
   "metadata": {},
   "outputs": [],
   "source": [
    "df = pd.read_csv(\"dataset/pcos_dataset.csv\")"
   ]
  },
  {
   "cell_type": "markdown",
   "id": "e2ff8b43-c8aa-40bf-a96f-e2172ab75a72",
   "metadata": {},
   "source": [
    "# EDA"
   ]
  },
  {
   "cell_type": "code",
   "execution_count": 361,
   "id": "0fe2a679-51fb-44cb-94d5-7104eb0185a8",
   "metadata": {},
   "outputs": [
    {
     "data": {
      "text/html": [
       "<div>\n",
       "<style scoped>\n",
       "    .dataframe tbody tr th:only-of-type {\n",
       "        vertical-align: middle;\n",
       "    }\n",
       "\n",
       "    .dataframe tbody tr th {\n",
       "        vertical-align: top;\n",
       "    }\n",
       "\n",
       "    .dataframe thead th {\n",
       "        text-align: right;\n",
       "    }\n",
       "</style>\n",
       "<table border=\"1\" class=\"dataframe\">\n",
       "  <thead>\n",
       "    <tr style=\"text-align: right;\">\n",
       "      <th></th>\n",
       "      <th>Age</th>\n",
       "      <th>BMI</th>\n",
       "      <th>Menstrual_Irregularity</th>\n",
       "      <th>Testosterone_Level(ng/dL)</th>\n",
       "      <th>Antral_Follicle_Count</th>\n",
       "      <th>PCOS_Diagnosis</th>\n",
       "    </tr>\n",
       "  </thead>\n",
       "  <tbody>\n",
       "    <tr>\n",
       "      <th>0</th>\n",
       "      <td>24</td>\n",
       "      <td>34.7</td>\n",
       "      <td>1</td>\n",
       "      <td>25.2</td>\n",
       "      <td>20</td>\n",
       "      <td>0</td>\n",
       "    </tr>\n",
       "    <tr>\n",
       "      <th>1</th>\n",
       "      <td>37</td>\n",
       "      <td>26.4</td>\n",
       "      <td>0</td>\n",
       "      <td>57.1</td>\n",
       "      <td>25</td>\n",
       "      <td>0</td>\n",
       "    </tr>\n",
       "    <tr>\n",
       "      <th>2</th>\n",
       "      <td>32</td>\n",
       "      <td>23.6</td>\n",
       "      <td>0</td>\n",
       "      <td>92.7</td>\n",
       "      <td>28</td>\n",
       "      <td>0</td>\n",
       "    </tr>\n",
       "    <tr>\n",
       "      <th>3</th>\n",
       "      <td>28</td>\n",
       "      <td>28.8</td>\n",
       "      <td>0</td>\n",
       "      <td>63.1</td>\n",
       "      <td>26</td>\n",
       "      <td>0</td>\n",
       "    </tr>\n",
       "    <tr>\n",
       "      <th>4</th>\n",
       "      <td>25</td>\n",
       "      <td>22.1</td>\n",
       "      <td>1</td>\n",
       "      <td>59.8</td>\n",
       "      <td>8</td>\n",
       "      <td>0</td>\n",
       "    </tr>\n",
       "  </tbody>\n",
       "</table>\n",
       "</div>"
      ],
      "text/plain": [
       "   Age   BMI  Menstrual_Irregularity  Testosterone_Level(ng/dL)  \\\n",
       "0   24  34.7                       1                       25.2   \n",
       "1   37  26.4                       0                       57.1   \n",
       "2   32  23.6                       0                       92.7   \n",
       "3   28  28.8                       0                       63.1   \n",
       "4   25  22.1                       1                       59.8   \n",
       "\n",
       "   Antral_Follicle_Count  PCOS_Diagnosis  \n",
       "0                     20               0  \n",
       "1                     25               0  \n",
       "2                     28               0  \n",
       "3                     26               0  \n",
       "4                      8               0  "
      ]
     },
     "execution_count": 361,
     "metadata": {},
     "output_type": "execute_result"
    }
   ],
   "source": [
    "df.head()"
   ]
  },
  {
   "cell_type": "markdown",
   "id": "078732dc-8ccf-44e0-b2d5-1ed3b97e3782",
   "metadata": {},
   "source": [
    "Diketahui bahwa terdapat sebuah dataset yang memiliki data orang orang yang telah didiagnosa mengalami gangguan hormon atau tidak dengan fitur fitur yang ada :"
   ]
  },
  {
   "cell_type": "markdown",
   "id": "b4243f7b-6555-49fb-9885-fdf484f079e0",
   "metadata": {},
   "source": [
    "- Usia (tahun): Usia pasien, berkisar antara 18 hingga 45 tahun.\n",
    "- BMI (kg/m²): Indeks Massa Tubuh, yang merupakan ukuran lemak tubuh berdasarkan tinggi dan berat badan, berkisar antara 18 hingga 35.\n",
    "- Ketidakteraturan Menstruasi (biner): Indikator biner yang menunjukkan apakah pasien memiliki siklus menstruasi yang tidak teratur (0 = Tidak, 1 = Ya).\n",
    "- Kadar Testosteron (ng/dL): Kadar testosteron dalam darah pasien, indikator hormonal penting PCOS, berkisar antara 20 hingga 100 ng/dL.\n",
    "- Jumlah Folikel Antral: Jumlah folikel antral yang terdeteksi selama USG, berkisar antara 5 hingga 30, yang membantu dalam menilai cadangan ovarium dan keberadaan PCOS. Variabel Target:\n",
    "- Diagnosis PCOS (biner): Indikator biner yang menunjukkan apakah pasien telah didiagnosis dengan PCOS (0 = Tidak, 1 = Ya), berdasarkan kombinasi faktor risiko seperti BMI tinggi, kadar testosteron, menstruasi tidak teratur, dan jumlah folikel antral."
   ]
  },
  {
   "cell_type": "markdown",
   "id": "01d6949c-78a4-4de0-95dd-4e02a5bd6006",
   "metadata": {},
   "source": [
    "Kita akan mencari pola orang yang terkena gangguan hormon itu bagaimana dengan machine learning"
   ]
  },
  {
   "cell_type": "code",
   "execution_count": 362,
   "id": "c7d847dc-3a86-4b9a-9e2e-3fd6a63194b2",
   "metadata": {},
   "outputs": [],
   "source": [
    "data = df.copy()"
   ]
  },
  {
   "cell_type": "code",
   "execution_count": 363,
   "id": "d63055ed-0680-46af-9d35-313527fb0e8d",
   "metadata": {},
   "outputs": [],
   "source": [
    "data = data.rename(columns={'Testosterone_Level(ng/dL)' : 'Testosterone_Level'})"
   ]
  },
  {
   "cell_type": "code",
   "execution_count": 364,
   "id": "5d532127-9f05-47a7-9e50-709647132a8f",
   "metadata": {},
   "outputs": [
    {
     "data": {
      "text/html": [
       "<div>\n",
       "<style scoped>\n",
       "    .dataframe tbody tr th:only-of-type {\n",
       "        vertical-align: middle;\n",
       "    }\n",
       "\n",
       "    .dataframe tbody tr th {\n",
       "        vertical-align: top;\n",
       "    }\n",
       "\n",
       "    .dataframe thead th {\n",
       "        text-align: right;\n",
       "    }\n",
       "</style>\n",
       "<table border=\"1\" class=\"dataframe\">\n",
       "  <thead>\n",
       "    <tr style=\"text-align: right;\">\n",
       "      <th></th>\n",
       "      <th>Age</th>\n",
       "      <th>BMI</th>\n",
       "      <th>Menstrual_Irregularity</th>\n",
       "      <th>Testosterone_Level</th>\n",
       "      <th>Antral_Follicle_Count</th>\n",
       "      <th>PCOS_Diagnosis</th>\n",
       "    </tr>\n",
       "  </thead>\n",
       "  <tbody>\n",
       "    <tr>\n",
       "      <th>0</th>\n",
       "      <td>24</td>\n",
       "      <td>34.7</td>\n",
       "      <td>1</td>\n",
       "      <td>25.2</td>\n",
       "      <td>20</td>\n",
       "      <td>0</td>\n",
       "    </tr>\n",
       "    <tr>\n",
       "      <th>1</th>\n",
       "      <td>37</td>\n",
       "      <td>26.4</td>\n",
       "      <td>0</td>\n",
       "      <td>57.1</td>\n",
       "      <td>25</td>\n",
       "      <td>0</td>\n",
       "    </tr>\n",
       "    <tr>\n",
       "      <th>2</th>\n",
       "      <td>32</td>\n",
       "      <td>23.6</td>\n",
       "      <td>0</td>\n",
       "      <td>92.7</td>\n",
       "      <td>28</td>\n",
       "      <td>0</td>\n",
       "    </tr>\n",
       "    <tr>\n",
       "      <th>3</th>\n",
       "      <td>28</td>\n",
       "      <td>28.8</td>\n",
       "      <td>0</td>\n",
       "      <td>63.1</td>\n",
       "      <td>26</td>\n",
       "      <td>0</td>\n",
       "    </tr>\n",
       "    <tr>\n",
       "      <th>4</th>\n",
       "      <td>25</td>\n",
       "      <td>22.1</td>\n",
       "      <td>1</td>\n",
       "      <td>59.8</td>\n",
       "      <td>8</td>\n",
       "      <td>0</td>\n",
       "    </tr>\n",
       "    <tr>\n",
       "      <th>...</th>\n",
       "      <td>...</td>\n",
       "      <td>...</td>\n",
       "      <td>...</td>\n",
       "      <td>...</td>\n",
       "      <td>...</td>\n",
       "      <td>...</td>\n",
       "    </tr>\n",
       "    <tr>\n",
       "      <th>995</th>\n",
       "      <td>34</td>\n",
       "      <td>18.4</td>\n",
       "      <td>1</td>\n",
       "      <td>95.7</td>\n",
       "      <td>23</td>\n",
       "      <td>0</td>\n",
       "    </tr>\n",
       "    <tr>\n",
       "      <th>996</th>\n",
       "      <td>45</td>\n",
       "      <td>28.9</td>\n",
       "      <td>1</td>\n",
       "      <td>28.5</td>\n",
       "      <td>7</td>\n",
       "      <td>0</td>\n",
       "    </tr>\n",
       "    <tr>\n",
       "      <th>997</th>\n",
       "      <td>37</td>\n",
       "      <td>28.3</td>\n",
       "      <td>0</td>\n",
       "      <td>32.4</td>\n",
       "      <td>28</td>\n",
       "      <td>0</td>\n",
       "    </tr>\n",
       "    <tr>\n",
       "      <th>998</th>\n",
       "      <td>41</td>\n",
       "      <td>27.3</td>\n",
       "      <td>0</td>\n",
       "      <td>95.6</td>\n",
       "      <td>9</td>\n",
       "      <td>0</td>\n",
       "    </tr>\n",
       "    <tr>\n",
       "      <th>999</th>\n",
       "      <td>22</td>\n",
       "      <td>21.9</td>\n",
       "      <td>1</td>\n",
       "      <td>78.9</td>\n",
       "      <td>7</td>\n",
       "      <td>0</td>\n",
       "    </tr>\n",
       "  </tbody>\n",
       "</table>\n",
       "<p>1000 rows × 6 columns</p>\n",
       "</div>"
      ],
      "text/plain": [
       "     Age   BMI  Menstrual_Irregularity  Testosterone_Level  \\\n",
       "0     24  34.7                       1                25.2   \n",
       "1     37  26.4                       0                57.1   \n",
       "2     32  23.6                       0                92.7   \n",
       "3     28  28.8                       0                63.1   \n",
       "4     25  22.1                       1                59.8   \n",
       "..   ...   ...                     ...                 ...   \n",
       "995   34  18.4                       1                95.7   \n",
       "996   45  28.9                       1                28.5   \n",
       "997   37  28.3                       0                32.4   \n",
       "998   41  27.3                       0                95.6   \n",
       "999   22  21.9                       1                78.9   \n",
       "\n",
       "     Antral_Follicle_Count  PCOS_Diagnosis  \n",
       "0                       20               0  \n",
       "1                       25               0  \n",
       "2                       28               0  \n",
       "3                       26               0  \n",
       "4                        8               0  \n",
       "..                     ...             ...  \n",
       "995                     23               0  \n",
       "996                      7               0  \n",
       "997                     28               0  \n",
       "998                      9               0  \n",
       "999                      7               0  \n",
       "\n",
       "[1000 rows x 6 columns]"
      ]
     },
     "execution_count": 364,
     "metadata": {},
     "output_type": "execute_result"
    }
   ],
   "source": [
    "data"
   ]
  },
  {
   "cell_type": "code",
   "execution_count": 365,
   "id": "8149d480-e486-48d6-8c01-dd5f1502e07a",
   "metadata": {},
   "outputs": [
    {
     "data": {
      "text/plain": [
       "PCOS_Diagnosis\n",
       "0    801\n",
       "1    199\n",
       "Name: count, dtype: int64"
      ]
     },
     "execution_count": 365,
     "metadata": {},
     "output_type": "execute_result"
    }
   ],
   "source": [
    "data['PCOS_Diagnosis'].value_counts()"
   ]
  },
  {
   "cell_type": "code",
   "execution_count": 366,
   "id": "750ee707-f5f7-4506-9398-a2948f37ba12",
   "metadata": {},
   "outputs": [
    {
     "name": "stdout",
     "output_type": "stream",
     "text": [
      "<class 'pandas.core.frame.DataFrame'>\n",
      "RangeIndex: 1000 entries, 0 to 999\n",
      "Data columns (total 6 columns):\n",
      " #   Column                  Non-Null Count  Dtype  \n",
      "---  ------                  --------------  -----  \n",
      " 0   Age                     1000 non-null   int64  \n",
      " 1   BMI                     1000 non-null   float64\n",
      " 2   Menstrual_Irregularity  1000 non-null   int64  \n",
      " 3   Testosterone_Level      1000 non-null   float64\n",
      " 4   Antral_Follicle_Count   1000 non-null   int64  \n",
      " 5   PCOS_Diagnosis          1000 non-null   int64  \n",
      "dtypes: float64(2), int64(4)\n",
      "memory usage: 47.0 KB\n"
     ]
    }
   ],
   "source": [
    "data.info()"
   ]
  },
  {
   "cell_type": "code",
   "execution_count": 367,
   "id": "bd12d07d-5d43-4004-be14-02a4642a326c",
   "metadata": {},
   "outputs": [
    {
     "data": {
      "text/plain": [
       "np.int64(0)"
      ]
     },
     "execution_count": 367,
     "metadata": {},
     "output_type": "execute_result"
    }
   ],
   "source": [
    "# identifikasi data duplikat\n",
    "data.duplicated().sum()"
   ]
  },
  {
   "cell_type": "code",
   "execution_count": 368,
   "id": "7c3bf818-2a9e-4595-bf63-0d79f8c594b9",
   "metadata": {},
   "outputs": [
    {
     "data": {
      "text/plain": [
       "Age                       0\n",
       "BMI                       0\n",
       "Menstrual_Irregularity    0\n",
       "Testosterone_Level        0\n",
       "Antral_Follicle_Count     0\n",
       "PCOS_Diagnosis            0\n",
       "dtype: int64"
      ]
     },
     "execution_count": 368,
     "metadata": {},
     "output_type": "execute_result"
    }
   ],
   "source": [
    "data.isnull().sum()"
   ]
  },
  {
   "cell_type": "code",
   "execution_count": 369,
   "id": "a5c8a4ff-e9c1-4896-8662-9aec4ac4f660",
   "metadata": {},
   "outputs": [
    {
     "data": {
      "image/png": "[encoded data removed]",
      "text/plain": [
       "<Figure size 1200x1000 with 6 Axes>"
      ]
     },
     "metadata": {},
     "output_type": "display_data"
    }
   ],
   "source": [
    "# identifikasi outlier\n",
    "plt.figure(figsize=(12,10))\n",
    "\n",
    "for i, col in enumerate(data.columns):\n",
    "    plt.subplot(4, 4, i+1)\n",
    "    sns.boxplot(data=data, x=data[col])\n",
    "    plt.title(f'{col}')\n",
    "    plt.tight_layout()\n",
    "\n",
    "plt.show()\n"
   ]
  },
  {
   "cell_type": "code",
   "execution_count": 370,
   "id": "1009d693-7d9f-4f95-9439-01eb2a91ff46",
   "metadata": {},
   "outputs": [
    {
     "data": {
      "image/png": "[encoded data removed]",
      "text/plain": [
       "<Figure size 640x480 with 6 Axes>"
      ]
     },
     "metadata": {},
     "output_type": "display_data"
    }
   ],
   "source": [
    "data.hist()\n",
    "plt.tight_layout()\n",
    "plt.show()"
   ]
  },
  {
   "cell_type": "code",
   "execution_count": 371,
   "id": "8f68c830-bfa6-450f-850a-54c0b1d40084",
   "metadata": {},
   "outputs": [
    {
     "data": {
      "text/plain": [
       "<Axes: >"
      ]
     },
     "execution_count": 371,
     "metadata": {},
     "output_type": "execute_result"
    },
    {
     "data": {
      "image/png": "[encoded data removed]",
      "text/plain": [
       "<Figure size 1200x1000 with 2 Axes>"
      ]
     },
     "metadata": {},
     "output_type": "display_data"
    }
   ],
   "source": [
    "plt.figure(figsize=(12,10))\n",
    "sns.heatmap(data.corr(), annot=True)"
   ]
  },
  {
   "cell_type": "markdown",
   "id": "0f9982ca-5b27-4338-9d87-bd26bf10bb4b",
   "metadata": {},
   "source": [
    "### Start with simple model"
   ]
  },
  {
   "cell_type": "code",
   "execution_count": 372,
   "id": "aef5782e-4131-4a4e-b4a7-5c828a1364bd",
   "metadata": {},
   "outputs": [],
   "source": [
    "X = data.drop(['PCOS_Diagnosis', 'Age'], axis = True)\n",
    "y = data['PCOS_Diagnosis']"
   ]
  },
  {
   "cell_type": "code",
   "execution_count": 373,
   "id": "032d54d6-b776-4649-baef-c867e07a2826",
   "metadata": {},
   "outputs": [],
   "source": [
    "#feature scalling\n",
    "\n",
    "def standart_scaler(X):\n",
    "    x = np.array(X)\n",
    "    mean = np.mean(x)\n",
    "    std = np.std(x)\n",
    "    return (x - mean)/std\n",
    "\n",
    "def minmax(X):\n",
    "    x = np.array(X)\n",
    "    x_min = min(X)\n",
    "    x_max = max(X)\n",
    "    return (x - x_min) / (x_max - x_min)"
   ]
  },
  {
   "cell_type": "code",
   "execution_count": 374,
   "id": "e38b7396-4389-4a59-aaf7-dc5bc62662a4",
   "metadata": {},
   "outputs": [
    {
     "data": {
      "text/html": [
       "<div>\n",
       "<style scoped>\n",
       "    .dataframe tbody tr th:only-of-type {\n",
       "        vertical-align: middle;\n",
       "    }\n",
       "\n",
       "    .dataframe tbody tr th {\n",
       "        vertical-align: top;\n",
       "    }\n",
       "\n",
       "    .dataframe thead th {\n",
       "        text-align: right;\n",
       "    }\n",
       "</style>\n",
       "<table border=\"1\" class=\"dataframe\">\n",
       "  <thead>\n",
       "    <tr style=\"text-align: right;\">\n",
       "      <th></th>\n",
       "      <th>BMI</th>\n",
       "      <th>Menstrual_Irregularity</th>\n",
       "      <th>Testosterone_Level</th>\n",
       "      <th>Antral_Follicle_Count</th>\n",
       "    </tr>\n",
       "  </thead>\n",
       "  <tbody>\n",
       "    <tr>\n",
       "      <th>0</th>\n",
       "      <td>0.982249</td>\n",
       "      <td>1.0</td>\n",
       "      <td>0.065163</td>\n",
       "      <td>0.625000</td>\n",
       "    </tr>\n",
       "    <tr>\n",
       "      <th>1</th>\n",
       "      <td>0.491124</td>\n",
       "      <td>0.0</td>\n",
       "      <td>0.464912</td>\n",
       "      <td>0.833333</td>\n",
       "    </tr>\n",
       "    <tr>\n",
       "      <th>2</th>\n",
       "      <td>0.325444</td>\n",
       "      <td>0.0</td>\n",
       "      <td>0.911028</td>\n",
       "      <td>0.958333</td>\n",
       "    </tr>\n",
       "    <tr>\n",
       "      <th>3</th>\n",
       "      <td>0.633136</td>\n",
       "      <td>0.0</td>\n",
       "      <td>0.540100</td>\n",
       "      <td>0.875000</td>\n",
       "    </tr>\n",
       "    <tr>\n",
       "      <th>4</th>\n",
       "      <td>0.236686</td>\n",
       "      <td>1.0</td>\n",
       "      <td>0.498747</td>\n",
       "      <td>0.125000</td>\n",
       "    </tr>\n",
       "    <tr>\n",
       "      <th>...</th>\n",
       "      <td>...</td>\n",
       "      <td>...</td>\n",
       "      <td>...</td>\n",
       "      <td>...</td>\n",
       "    </tr>\n",
       "    <tr>\n",
       "      <th>995</th>\n",
       "      <td>0.017751</td>\n",
       "      <td>1.0</td>\n",
       "      <td>0.948622</td>\n",
       "      <td>0.750000</td>\n",
       "    </tr>\n",
       "    <tr>\n",
       "      <th>996</th>\n",
       "      <td>0.639053</td>\n",
       "      <td>1.0</td>\n",
       "      <td>0.106516</td>\n",
       "      <td>0.083333</td>\n",
       "    </tr>\n",
       "    <tr>\n",
       "      <th>997</th>\n",
       "      <td>0.603550</td>\n",
       "      <td>0.0</td>\n",
       "      <td>0.155388</td>\n",
       "      <td>0.958333</td>\n",
       "    </tr>\n",
       "    <tr>\n",
       "      <th>998</th>\n",
       "      <td>0.544379</td>\n",
       "      <td>0.0</td>\n",
       "      <td>0.947368</td>\n",
       "      <td>0.166667</td>\n",
       "    </tr>\n",
       "    <tr>\n",
       "      <th>999</th>\n",
       "      <td>0.224852</td>\n",
       "      <td>1.0</td>\n",
       "      <td>0.738095</td>\n",
       "      <td>0.083333</td>\n",
       "    </tr>\n",
       "  </tbody>\n",
       "</table>\n",
       "<p>1000 rows × 4 columns</p>\n",
       "</div>"
      ],
      "text/plain": [
       "          BMI  Menstrual_Irregularity  Testosterone_Level  \\\n",
       "0    0.982249                     1.0            0.065163   \n",
       "1    0.491124                     0.0            0.464912   \n",
       "2    0.325444                     0.0            0.911028   \n",
       "3    0.633136                     0.0            0.540100   \n",
       "4    0.236686                     1.0            0.498747   \n",
       "..        ...                     ...                 ...   \n",
       "995  0.017751                     1.0            0.948622   \n",
       "996  0.639053                     1.0            0.106516   \n",
       "997  0.603550                     0.0            0.155388   \n",
       "998  0.544379                     0.0            0.947368   \n",
       "999  0.224852                     1.0            0.738095   \n",
       "\n",
       "     Antral_Follicle_Count  \n",
       "0                 0.625000  \n",
       "1                 0.833333  \n",
       "2                 0.958333  \n",
       "3                 0.875000  \n",
       "4                 0.125000  \n",
       "..                     ...  \n",
       "995               0.750000  \n",
       "996               0.083333  \n",
       "997               0.958333  \n",
       "998               0.166667  \n",
       "999               0.083333  \n",
       "\n",
       "[1000 rows x 4 columns]"
      ]
     },
     "execution_count": 374,
     "metadata": {},
     "output_type": "execute_result"
    }
   ],
   "source": [
    "X = X.apply(minmax)\n",
    "X"
   ]
  },
  {
   "cell_type": "code",
   "execution_count": 375,
   "id": "e632c328-9eb7-4a4e-8f5b-4ef98702b236",
   "metadata": {},
   "outputs": [],
   "source": [
    "def train_test_split(X, y, test_size, random_state = None):\n",
    "    if random_state is not None:\n",
    "        np.random.seed(random_state)\n",
    "\n",
    "    total_sample = X.shape[0]\n",
    "\n",
    "    indicies = np.random.permutation(total_sample)\n",
    "\n",
    "    split = int(total_sample * (1 - test_size))\n",
    "\n",
    "    X_train = X.iloc[indicies[:split]]\n",
    "    X_test = X.iloc[indicies[split:]]\n",
    "    y_train = y.iloc[indicies[:split]]\n",
    "    y_test = y.iloc[indicies[split:]]\n",
    "\n",
    "    return X_train, X_test, y_train, y_test "
   ]
  },
  {
   "cell_type": "code",
   "execution_count": 376,
   "id": "a75b5977-370a-4bcf-8693-395b49fba5c3",
   "metadata": {},
   "outputs": [],
   "source": [
    "X_train, X_test, y_train, y_test = train_test_split(X, y, test_size=0.2, random_state=42)"
   ]
  },
  {
   "cell_type": "code",
   "execution_count": 377,
   "id": "ecba0b2a-6da9-44c0-b643-c78a67956085",
   "metadata": {},
   "outputs": [
    {
     "name": "stdout",
     "output_type": "stream",
     "text": [
      "(800, 4)\n"
     ]
    }
   ],
   "source": [
    "print(X_train.shape)"
   ]
  },
  {
   "cell_type": "code",
   "execution_count": 378,
   "id": "0da9e817-bdc9-4ddd-9d85-d712768241d7",
   "metadata": {},
   "outputs": [
    {
     "data": {
      "text/plain": [
       "556    1\n",
       "957    0\n",
       "577    0\n",
       "795    0\n",
       "85     0\n",
       "      ..\n",
       "106    0\n",
       "270    0\n",
       "860    0\n",
       "435    0\n",
       "102    1\n",
       "Name: PCOS_Diagnosis, Length: 200, dtype: int64"
      ]
     },
     "execution_count": 378,
     "metadata": {},
     "output_type": "execute_result"
    }
   ],
   "source": [
    "y_test"
   ]
  },
  {
   "cell_type": "code",
   "execution_count": 379,
   "id": "ba1144cf-76b6-44f3-93d4-1006915ca6c2",
   "metadata": {},
   "outputs": [],
   "source": [
    "class KNN:\n",
    "    def __init__(self, k=2, weight='uniform'):\n",
    "        self.k = k\n",
    "        self.weight = weight\n",
    "        self.X_train = None\n",
    "        self.y_train = None\n",
    "\n",
    "    #model.fit()\n",
    "    def fit(self, X_train, y_train):\n",
    "        self.X_train = np.array(X_train, dtype=float)\n",
    "        self.y_train = np.array(y_train, dtype=float)\n",
    "\n",
    "    def euclidean_distance(self, a, b):\n",
    "        return np.sqrt(np.sum((np.array(a) - np.array(b))**2))\n",
    "\n",
    "    def get_neighbors(self, test_point):\n",
    "        distance = []\n",
    "        for X, y in zip(self.X_train, self.y_train):\n",
    "            dist = self.euclidean_distance(X, test_point)\n",
    "            distance.append((dist, y))\n",
    "\n",
    "        distance.sort(key=lambda x: x[0])\n",
    "        return distance[:self.k]\n",
    "\n",
    "    def predict(self, X_test):\n",
    "        X_test = np.array(X_test, dtype=float)\n",
    "        prediction = []\n",
    "        for point in X_test:\n",
    "            neighbors = self.get_neighbors(point)\n",
    "\n",
    "            if self.weight == 'uniform' :\n",
    "                labels = [label for _, label in neighbors]\n",
    "                pred = max(set(labels), key=labels.count)\n",
    "\n",
    "            elif self.weight == 'distance' :\n",
    "                label_weight = {}\n",
    "                for dist, label in neighbors:\n",
    "                    weight = 1 / (dist + 1e-5)\n",
    "                    if label in label_weight:\n",
    "                        label_weight[label] += weight\n",
    "                    else :\n",
    "                        label_weight[label] = weight\n",
    "\n",
    "                pred = max(label_weight.items(), key = lambda x: x[1])[0]\n",
    "\n",
    "            else :\n",
    "                raise ValueError(\"masukkan weight!\")\n",
    "            prediction.append(pred)\n",
    "        return prediction\n",
    "\n",
    "\n",
    "    def score(self, X_test, y_test):\n",
    "        y_pred = self.predict(X_test)\n",
    "        accuracy = np.sum(np.array(y_pred) == np.array(y_test)) / len(y_test)*100\n",
    "        return accuracy"
   ]
  },
  {
   "cell_type": "code",
   "execution_count": 380,
   "id": "b71384a5-4bbb-4756-a391-6db96521fe4b",
   "metadata": {},
   "outputs": [],
   "source": [
    "model = KNN(k = 5, weight='distance')"
   ]
  },
  {
   "cell_type": "code",
   "execution_count": 381,
   "id": "ac1fcc33-b96a-4b57-a2e2-fdf0c4f265f4",
   "metadata": {},
   "outputs": [],
   "source": [
    "model.fit(X_train, y_train)"
   ]
  },
  {
   "cell_type": "code",
   "execution_count": 382,
   "id": "a93407d3-1c0a-4252-b47d-9fd7361fa34d",
   "metadata": {},
   "outputs": [
    {
     "data": {
      "text/plain": [
       "np.float64(95.5)"
      ]
     },
     "execution_count": 382,
     "metadata": {},
     "output_type": "execute_result"
    }
   ],
   "source": [
    "model.score(X_test, y_test)"
   ]
  },
  {
   "cell_type": "code",
   "execution_count": 383,
   "id": "63fbe467-199d-4d1c-bf69-9aba4001746d",
   "metadata": {},
   "outputs": [
    {
     "data": {
      "text/plain": [
       "np.float64(100.0)"
      ]
     },
     "execution_count": 383,
     "metadata": {},
     "output_type": "execute_result"
    }
   ],
   "source": [
    "model.score(X_train, y_train)"
   ]
  },
  {
   "cell_type": "code",
   "execution_count": 384,
   "id": "a09ce331-aa45-4a14-b5fc-3ce74dac47e8",
   "metadata": {},
   "outputs": [
    {
     "data": {
      "text/plain": [
       "0.955"
      ]
     },
     "execution_count": 384,
     "metadata": {},
     "output_type": "execute_result"
    }
   ],
   "source": [
    "from sklearn.neighbors import KNeighborsClassifier\n",
    "lr = KNeighborsClassifier(weights='distance')\n",
    "lr.fit(X_train, y_train)\n",
    "lr.score(X_test, y_test)"
   ]
  },
  {
   "cell_type": "code",
   "execution_count": 385,
   "id": "0b44ec1c-6193-4190-a76e-e92373ade5f4",
   "metadata": {},
   "outputs": [
    {
     "data": {
      "text/plain": [
       "1.0"
      ]
     },
     "execution_count": 385,
     "metadata": {},
     "output_type": "execute_result"
    }
   ],
   "source": [
    "lr.score(X_train, y_train)"
   ]
  },
  {
   "cell_type": "code",
   "execution_count": null,
   "id": "22674701-f8cf-4994-83b1-b70fcde13b5e",
   "metadata": {},
   "outputs": [],
   "source": []
  }
 ],
 "metadata": {
  "kernelspec": {
   "display_name": "Python 3 (ipykernel)",
   "language": "python",
   "name": "python3"
  },
  "language_info": {
   "codemirror_mode": {
    "name": "ipython",
    "version": 3
   },
   "file_extension": ".py",
   "mimetype": "text/x-python",
   "name": "python",
   "nbconvert_exporter": "python",
   "pygments_lexer": "ipython3",
   "version": "3.13.2"
  }
 },
 "nbformat": 4,
 "nbformat_minor": 5
}
